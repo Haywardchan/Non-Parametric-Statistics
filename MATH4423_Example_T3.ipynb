{
  "cells": [
    {
      "cell_type": "code",
      "execution_count": 1,
      "metadata": {
        "id": "6_WhxEIC4mhH"
      },
      "outputs": [],
      "source": [
        "# Import packages and functions\n",
        "import numpy as np\n",
        "from scipy.stats import rankdata\n",
        "from scipy.stats import binom\n",
        "from itertools import product\n",
        "from tqdm import tqdm"
      ]
    },
    {
      "cell_type": "markdown",
      "metadata": {},
      "source": [
        "# Ties and zeros in Wilcoxon signed rank test"
      ]
    },
    {
      "cell_type": "code",
      "execution_count": 2,
      "metadata": {},
      "outputs": [],
      "source": [
        "# Define type I error level\n",
        "alpha = 0.05\n",
        "\n",
        "# Define m0\n",
        "m0 = 3.7"
      ]
    },
    {
      "cell_type": "code",
      "execution_count": 3,
      "metadata": {
        "colab": {
          "base_uri": "https://localhost:8080/"
        },
        "id": "Hqm_zgb04rRX",
        "outputId": "571f4d90-fb16-4fda-bd34-e37d7979c9e6"
      },
      "outputs": [
        {
          "name": "stdout",
          "output_type": "stream",
          "text": [
            "Absolute values of Xi - m0 [0.  2.4 0.6 1.3 0.2 1.5 1.8 0.9 2.4 2.7 1.1 2.  0.6]\n",
            "Size of the sample 13\n",
            "Size of the sample without zeros 12\n"
          ]
        }
      ],
      "source": [
        "# Our sample\n",
        "lens = np.array([3.7, 6.1, 3.1] + [5.0, 3.9, 5.2, 5.5, 2.8, 6.1, 6.4, 2.6, 1.7, 4.3])\n",
        "\n",
        "print(\"Absolute values of Xi - m0\", np.abs(lens - m0))\n",
        "n_all = len(lens)\n",
        "print(\"Size of the sample\", n_all)\n",
        "n_no_zeros = n_all - np.sum(lens == m0)\n",
        "print(\"Size of the sample without zeros\", n_no_zeros)"
      ]
    },
    {
      "cell_type": "code",
      "execution_count": 4,
      "metadata": {
        "colab": {
          "base_uri": "https://localhost:8080/"
        },
        "id": "q7D9dsPQ5eor",
        "outputId": "73d76491-400f-482f-cde4-f045de3585ed"
      },
      "outputs": [
        {
          "name": "stdout",
          "output_type": "stream",
          "text": [
            "Ranks of the sample:\n",
            "- Pratt's ranks [11  4  7  2  8  9  5 12 13  6 10  3]\n",
            "- Wilcoxon's ranks [10  3  6  1  7  8  4 11 12  5  9  2]\n"
          ]
        }
      ],
      "source": [
        "# Compute all ranks\n",
        "ranks_pratt = rankdata(np.abs(lens - m0), method='ordinal')[np.abs(lens - m0) > 0]\n",
        "ranks_wilcoxon = rankdata(np.abs(lens - m0)[np.abs(lens - m0) > 0], method='ordinal')\n",
        "# ORDINAL: All values are given a distinct rank, corresponding to the order that the values occur in the sample - tiebreaking rule\n",
        "\n",
        "print(\"Ranks of the sample:\")\n",
        "print(\"- Pratt's ranks\", ranks_pratt)\n",
        "print(\"- Wilcoxon's ranks\", ranks_wilcoxon)"
      ]
    },
    {
      "cell_type": "code",
      "execution_count": 5,
      "metadata": {
        "colab": {
          "base_uri": "https://localhost:8080/"
        },
        "id": "zC29svd35md4",
        "outputId": "15a2d7c4-4353-4eb1-f0df-8e28bd71b1df"
      },
      "outputs": [
        {
          "name": "stdout",
          "output_type": "stream",
          "text": [
            "Lens above m0 [6.1 5.  3.9 5.2 5.5 6.1 6.4 4.3]\n"
          ]
        }
      ],
      "source": [
        "print(\"Lens above m0\", lens[lens > m0])"
      ]
    },
    {
      "cell_type": "code",
      "execution_count": 6,
      "metadata": {
        "colab": {
          "base_uri": "https://localhost:8080/"
        },
        "id": "vEhXEZ4i6IaC",
        "outputId": "e09042cf-d8d8-4752-8573-71e2316f75c7"
      },
      "outputs": [
        {
          "name": "stdout",
          "output_type": "stream",
          "text": [
            "Positive ranks:\n",
            "- Pratt's ranks [11  7  2  8  9 12 13  3]\n",
            "- Wilcoxon's ranks [10  6  1  7  8 11 12  2] \n",
            "\n",
            "Negative ranks:\n",
            "- Pratt's ranks [ 4  5  6 10]\n",
            "- Wilcoxon's ranks [3 4 5 9]\n"
          ]
        }
      ],
      "source": [
        "# Removing the entry corresponding to zero\n",
        "mask = (lens > m0)[np.abs(lens - m0) > 0]\n",
        "\n",
        "# Pick positive ranks\n",
        "print(\"Positive ranks:\")\n",
        "print(\"- Pratt's ranks\", ranks_pratt[mask]) \n",
        "print(\"- Wilcoxon's ranks\", ranks_wilcoxon[mask], \"\\n\")\n",
        "\n",
        "# Pick negative ranks\n",
        "print(\"Negative ranks:\")\n",
        "print(\"- Pratt's ranks\", ranks_pratt[~mask]) \n",
        "print(\"- Wilcoxon's ranks\", ranks_wilcoxon[~mask])"
      ]
    },
    {
      "cell_type": "code",
      "execution_count": 7,
      "metadata": {
        "colab": {
          "base_uri": "https://localhost:8080/"
        },
        "id": "82C2JWLd6ftq",
        "outputId": "df86620b-c583-4335-b73c-13e61d547191"
      },
      "outputs": [
        {
          "name": "stdout",
          "output_type": "stream",
          "text": [
            "Wilcoxon sign rank test statistic:\n",
            "- with Pratt's ranks 65\n",
            "- with Wilcoxon's ranks 57 \n",
            "\n",
            "Sum of negative ranks:\n",
            "- with Pratt's ranks 25\n",
            "- with Wilcoxon's ranks 21\n"
          ]
        }
      ],
      "source": [
        "# Wilcoxon signed rank test\n",
        "W_pos_pratt = np.sum(ranks_pratt[mask])\n",
        "W_neg_pratt = np.sum(ranks_pratt[~mask])\n",
        "\n",
        "W_pos_wilcoxon = np.sum(ranks_wilcoxon[mask])\n",
        "W_neg_wilcoxon = np.sum(ranks_wilcoxon[~mask])\n",
        "\n",
        "print(\"Wilcoxon sign rank test statistic:\")\n",
        "print(\"- with Pratt's ranks\", W_pos_pratt)\n",
        "print(\"- with Wilcoxon's ranks\", W_pos_wilcoxon, \"\\n\")\n",
        "\n",
        "print(\"Sum of negative ranks:\")\n",
        "print(\"- with Pratt's ranks\", W_neg_pratt)\n",
        "print(\"- with Wilcoxon's ranks\", W_neg_wilcoxon)"
      ]
    },
    {
      "cell_type": "markdown",
      "metadata": {},
      "source": [
        "![caption](./Table.png)"
      ]
    },
    {
      "cell_type": "code",
      "execution_count": 8,
      "metadata": {
        "colab": {
          "base_uri": "https://localhost:8080/"
        },
        "id": "LBCn_a8p6nsQ",
        "outputId": "339f09c0-52c3-4dd1-e57b-0470fc87d271"
      },
      "outputs": [
        {
          "name": "stdout",
          "output_type": "stream",
          "text": [
            "Test H0 with Pratt's ranks:\n",
            "Do not reject H0\n",
            "\n",
            "Test H0 with Wilcoxon's ranks:\n",
            "Do not reject H0\n"
          ]
        }
      ],
      "source": [
        "crit_val_pratt = 17\n",
        "crit_val_wilcoxon = 13\n",
        "\n",
        "print(\"Test H0 with Pratt's ranks:\")\n",
        "if min(W_pos_pratt, W_neg_pratt) < crit_val_pratt:\n",
        "    print(\"Reject H0\\n\")\n",
        "else:\n",
        "    print(\"Do not reject H0\\n\")\n",
        "\n",
        "print(\"Test H0 with Wilcoxon's ranks:\")\n",
        "if min(W_pos_wilcoxon, W_neg_wilcoxon) < crit_val_wilcoxon:\n",
        "    print(\"Reject H0\")\n",
        "else:\n",
        "    print(\"Do not reject H0\")"
      ]
    },
    {
      "cell_type": "markdown",
      "metadata": {},
      "source": [
        "# Point estimation and Confidence Intervals for Median"
      ]
    },
    {
      "cell_type": "code",
      "execution_count": 9,
      "metadata": {},
      "outputs": [
        {
          "name": "stdout",
          "output_type": "stream",
          "text": [
            "Size of the sample 10\n"
          ]
        }
      ],
      "source": [
        "# Our sample\n",
        "lens_no_zeros_ties = np.array([5.0, 3.9, 5.2, 5.5, 2.8, 6.1, 6.4, 2.6, 1.7, 4.3])\n",
        "\n",
        "n = len(lens_no_zeros_ties)\n",
        "print(\"Size of the sample\", n)"
      ]
    },
    {
      "cell_type": "code",
      "execution_count": 10,
      "metadata": {},
      "outputs": [
        {
          "name": "stdout",
          "output_type": "stream",
          "text": [
            "Walsh averages [5.   4.45 5.1  5.25 3.9  5.55 5.7  3.8  3.35 4.65 3.9  4.55 4.7  3.35\n",
            " 5.   5.15 3.25 2.8  4.1  5.2  5.35 4.   5.65 5.8  3.9  3.45 4.75 5.5\n",
            " 4.15 5.8  5.95 4.05 3.6  4.9  2.8  4.45 4.6  2.7  2.25 3.55 6.1  6.25\n",
            " 4.35 3.9  5.2  6.4  4.5  4.05 5.35 2.6  2.15 3.45 1.7  3.   4.3 ]\n",
            "Size of Walsh averages set 55\n"
          ]
        }
      ],
      "source": [
        "# Calculate Walsh averages\n",
        "WA = []\n",
        "\n",
        "for i, xi in enumerate(lens_no_zeros_ties):\n",
        "    for xj in lens_no_zeros_ties[i:]:\n",
        "        WA += [(xi + xj) / 2]\n",
        "\n",
        "WA = np.array(WA)\n",
        "print(\"Walsh averages\", WA)\n",
        "print(\"Size of Walsh averages set\", len(WA))"
      ]
    },
    {
      "cell_type": "code",
      "execution_count": 11,
      "metadata": {},
      "outputs": [
        {
          "name": "stdout",
          "output_type": "stream",
          "text": [
            "Median point estimation:\n",
            "- Sample median 4.65\n",
            "- Hodges-Lehmann estimator 4.449999999999999\n"
          ]
        }
      ],
      "source": [
        "# Compute point estimations\n",
        "m_sample = np.median(lens_no_zeros_ties)\n",
        "m_hl = np.median(WA)\n",
        "\n",
        "print(\"Median point estimation:\")\n",
        "print(\"- Sample median\", m_sample)\n",
        "print(\"- Hodges-Lehmann estimator\", m_hl)"
      ]
    },
    {
      "cell_type": "code",
      "execution_count": 12,
      "metadata": {},
      "outputs": [
        {
          "name": "stderr",
          "output_type": "stream",
          "text": [
            "100%|██████████| 1024/1024 [00:00<00:00, 214984.85it/s]\n"
          ]
        }
      ],
      "source": [
        "# Find exact distribution of W\n",
        "def distr_W(n):\n",
        "    prob = {}\n",
        "\n",
        "    # generate binary sets representing + and - sign of the ranks\n",
        "    bin_arr = [np.array(p) for p in product([1, 0], repeat=n)]\n",
        "\n",
        "    # check all possible values of W\n",
        "    for pos_neg in tqdm(bin_arr):\n",
        "        W = np.sum(np.arange(1, n + 1) * pos_neg)\n",
        "        if W in prob:\n",
        "            prob[W] += 1\n",
        "        else:\n",
        "            prob[W] = 1\n",
        "\n",
        "    # compute probabilities\n",
        "    for W in prob:\n",
        "        prob[W] /= 2 ** n\n",
        "\n",
        "    return prob\n",
        "\n",
        "W_prob = distr_W(n) # Compute pmf\n",
        "W_prob = {k: v for k, v in sorted(W_prob.items(), key=lambda item: item[0])} # Sort the values of W in ascending order\n",
        "W_cdf = dict(zip(W_prob.keys(), np.cumsum(list(W_prob.values())))) # Compute cdf"
      ]
    },
    {
      "cell_type": "code",
      "execution_count": 13,
      "metadata": {},
      "outputs": [],
      "source": [
        "# Define confidence level\n",
        "gamma = 0.999\n",
        "alpha = 1 - gamma"
      ]
    },
    {
      "cell_type": "code",
      "execution_count": 14,
      "metadata": {},
      "outputs": [
        {
          "name": "stdout",
          "output_type": "stream",
          "text": [
            "Median confidence interval:\n",
            "- with Sign test quantiles [ 1.7 6.4 ]\n",
            "- with Wilcoxon signed rank test quantiles [ 1.7 6.4 ]\n"
          ]
        }
      ],
      "source": [
        "# Compute confidence intervals\n",
        "k_a_sample = int(binom(n=n, p=0.5).ppf(alpha / 2)) + 1 # First, compute a quantile of Binom: ppf will return k such that P(Binom \\leq k), so, we add + 1\n",
        "left_sample = np.sort(lens_no_zeros_ties)[k_a_sample - 1] # Then, pick corresponding order statistics: ordering starts with 0, so we add - 1\n",
        "right_sample = np.sort(lens_no_zeros_ties)[n - k_a_sample]\n",
        "\n",
        "k_a_hl = list(W_cdf.keys())[np.argmin(np.abs(np.array(list(W_cdf.values())) - alpha / 2))] + 1 # First, compute a quantile of the exact distribution of W\n",
        "left_hl = np.sort(WA)[k_a_hl - 1] # Then, pick corresponding order statistics\n",
        "right_hl = np.sort(WA)[n * (n + 1) // 2 - k_a_hl]\n",
        "\n",
        "print(\"Median confidence interval:\")\n",
        "print(\"- with Sign test quantiles [\", left_sample, right_sample, \"]\")\n",
        "print(\"- with Wilcoxon signed rank test quantiles [\", left_hl, right_hl, \"]\")"
      ]
    },
    {
      "cell_type": "code",
      "execution_count": 15,
      "metadata": {},
      "outputs": [],
      "source": [
        "# Define another confidence level\n",
        "gamma = 0.99\n",
        "alpha = 1 - gamma"
      ]
    },
    {
      "cell_type": "code",
      "execution_count": 16,
      "metadata": {},
      "outputs": [
        {
          "name": "stdout",
          "output_type": "stream",
          "text": [
            "Median confidence interval:\n",
            "- with Sign test quantiles [ 2.6 6.1 ]\n",
            "- with Wilcoxon signed rank test quantiles [ 2.6 5.95 ]\n"
          ]
        }
      ],
      "source": [
        "# Compute confidence intervals\n",
        "k_a_sample = int(binom(n=n, p=0.5).ppf(alpha / 2)) + 1 # First, compute a quantile of Binom: ppf will return k such that P(Binom \\leq k), so, we add + 1\n",
        "left_sample = np.sort(lens_no_zeros_ties)[k_a_sample - 1] # Then, pick corresponding order statistics: ordering starts with 0, so we add - 1\n",
        "right_sample = np.sort(lens_no_zeros_ties)[n - k_a_sample]\n",
        "\n",
        "k_a_hl = list(W_cdf.keys())[np.argmin(np.abs(np.array(list(W_cdf.values())) - alpha / 2))] + 1 # First, compute a quantile of the exact distribution of W\n",
        "left_hl = np.sort(WA)[k_a_hl - 1] # Then, pick corresponding order statistics\n",
        "right_hl = np.sort(WA)[n * (n + 1) // 2 - k_a_hl]\n",
        "\n",
        "print(\"Median confidence interval:\")\n",
        "print(\"- with Sign test quantiles [\", left_sample, right_sample, \"]\")\n",
        "print(\"- with Wilcoxon signed rank test quantiles [\", left_hl, right_hl, \"]\")"
      ]
    },
    {
      "cell_type": "code",
      "execution_count": 17,
      "metadata": {},
      "outputs": [],
      "source": [
        "# Define another confidence level\n",
        "gamma = 0.95\n",
        "alpha = 1 - gamma"
      ]
    },
    {
      "cell_type": "code",
      "execution_count": 18,
      "metadata": {},
      "outputs": [
        {
          "name": "stdout",
          "output_type": "stream",
          "text": [
            "Median confidence interval:\n",
            "- with Sign test quantiles [ 2.8 5.5 ]\n",
            "- with Wilcoxon signed rank test quantiles [ 3.25 5.55 ]\n"
          ]
        }
      ],
      "source": [
        "# Compute confidence intervals\n",
        "k_a_sample = int(binom(n=n, p=0.5).ppf(alpha / 2)) + 1 # First, compute a quantile of Binom: ppf will return k such that P(Binom \\leq k), so, we add + 1\n",
        "left_sample = np.sort(lens_no_zeros_ties)[k_a_sample - 1] # Then, pick corresponding order statistics: ordering starts with 0, so we add - 1\n",
        "right_sample = np.sort(lens_no_zeros_ties)[n - k_a_sample]\n",
        "\n",
        "k_a_hl = list(W_cdf.keys())[np.argmin(np.abs(np.array(list(W_cdf.values())) - alpha / 2))] + 1 # First, compute a quantile of the exact distribution of W\n",
        "left_hl = np.sort(WA)[k_a_hl - 1] # Then, pick corresponding order statistics\n",
        "right_hl = np.sort(WA)[n * (n + 1) // 2 - k_a_hl]\n",
        "\n",
        "print(\"Median confidence interval:\")\n",
        "print(\"- with Sign test quantiles [\", left_sample, right_sample, \"]\")\n",
        "print(\"- with Wilcoxon signed rank test quantiles [\", left_hl, right_hl, \"]\")"
      ]
    },
    {
      "cell_type": "code",
      "execution_count": 19,
      "metadata": {},
      "outputs": [],
      "source": [
        "# Define one more confidence level\n",
        "gamma = 0.8 # Unlike 95% and 99%, 80%-confidence level CIs are not common. This one is given for comparison purposes only\n",
        "alpha = 1 - gamma"
      ]
    },
    {
      "cell_type": "code",
      "execution_count": 20,
      "metadata": {},
      "outputs": [
        {
          "name": "stdout",
          "output_type": "stream",
          "text": [
            "Median confidence interval:\n",
            "- with Sign test quantiles [ 3.9 5.2 ]\n",
            "- with Wilcoxon signed rank test quantiles [ 4.1 5.2 ]\n"
          ]
        }
      ],
      "source": [
        "# Compute confidence intervals\n",
        "k_a_sample = int(binom(n=n, p=0.5).ppf(alpha / 2)) + 1 # First, compute a quantile of Binom: ppf will return k such that P(Binom \\leq k), so, we add + 1\n",
        "left_sample = np.sort(lens_no_zeros_ties)[k_a_sample - 1] # Then, pick corresponding order statistics: ordering starts with 0, so we add - 1\n",
        "right_sample = np.sort(lens_no_zeros_ties)[n - k_a_sample]\n",
        "\n",
        "k_a_hl = int(binom(n=n * (n + 1) // 2, p=0.5).ppf(alpha / 2)) + 1 # First, compute a quantile of Binom\n",
        "left_hl = np.sort(WA)[k_a_hl - 1] # Then, pick corresponding order statistics\n",
        "right_hl = np.sort(WA)[n - k_a_hl]\n",
        "\n",
        "print(\"Median confidence interval:\")\n",
        "print(\"- with Sign test quantiles [\", left_sample, right_sample, \"]\")\n",
        "print(\"- with Wilcoxon signed rank test quantiles [\", left_hl, right_hl, \"]\")"
      ]
    }
  ],
  "metadata": {
    "colab": {
      "provenance": []
    },
    "kernelspec": {
      "display_name": "Python 3",
      "name": "python3"
    },
    "language_info": {
      "codemirror_mode": {
        "name": "ipython",
        "version": 3
      },
      "file_extension": ".py",
      "mimetype": "text/x-python",
      "name": "python",
      "nbconvert_exporter": "python",
      "pygments_lexer": "ipython3",
      "version": "3.12.6"
    }
  },
  "nbformat": 4,
  "nbformat_minor": 0
}
