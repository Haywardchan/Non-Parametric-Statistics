{
 "cells": [
  {
   "cell_type": "code",
   "execution_count": 9,
   "metadata": {},
   "outputs": [],
   "source": [
    "# Import packages and functions\n",
    "import numpy as np\n",
    "from scipy.stats import rankdata\n",
    "from scipy.stats import binom\n",
    "from itertools import product\n",
    "from tqdm import tqdm"
   ]
  },
  {
   "cell_type": "code",
   "execution_count": 10,
   "metadata": {},
   "outputs": [
    {
     "name": "stdout",
     "output_type": "stream",
     "text": [
      "Walsh averages [-2.2  -1.8  -1.65 -1.45 -0.7  -1.4  -1.25 -1.05 -0.3  -1.1  -0.9  -0.15\n",
      " -0.7   0.05  0.8 ]\n",
      "Walsh averages [-2.2, -1.8, -1.6500000000000001, -1.4500000000000002, -1.4, -1.25, -1.1, -1.0499999999999998, -0.9, -0.7000000000000001, -0.7, -0.29999999999999993, -0.15000000000000002, 0.050000000000000044, 0.8]\n",
      "Size of Walsh averages set 15\n"
     ]
    }
   ],
   "source": [
    "lens_no_zeros_ties = [-2.2, -1.4, -1.1, -0.7, 0.8]\n",
    "n = len(lens_no_zeros_ties)\n",
    "# Calculate Walsh averages\n",
    "WA = []\n",
    "\n",
    "for i, xi in enumerate(lens_no_zeros_ties):\n",
    "    for xj in lens_no_zeros_ties[i:]:\n",
    "        WA += [(xi + xj) / 2]\n",
    "\n",
    "WA = np.array(WA)\n",
    "print(\"Walsh averages\", WA)\n",
    "print(\"Walsh averages\", sorted(WA))\n",
    "print(\"Size of Walsh averages set\", len(WA))"
   ]
  },
  {
   "cell_type": "code",
   "execution_count": 11,
   "metadata": {},
   "outputs": [
    {
     "name": "stdout",
     "output_type": "stream",
     "text": [
      "Median point estimation:\n",
      "- Sample median -1.1\n",
      "- Hodges-Lehmann estimator -1.0499999999999998\n"
     ]
    }
   ],
   "source": [
    "# Compute point estimations\n",
    "m_sample = np.median(lens_no_zeros_ties)\n",
    "m_hl = np.median(WA)\n",
    "\n",
    "print(\"Median point estimation:\")\n",
    "print(\"- Sample median\", m_sample)\n",
    "print(\"- Hodges-Lehmann estimator\", m_hl)"
   ]
  },
  {
   "cell_type": "code",
   "execution_count": 12,
   "metadata": {},
   "outputs": [
    {
     "name": "stderr",
     "output_type": "stream",
     "text": [
      "100%|██████████| 32/32 [00:00<00:00, 31767.51it/s]\n"
     ]
    }
   ],
   "source": [
    "# Find exact distribution of W\n",
    "def distr_W(n):\n",
    "    prob = {}\n",
    "\n",
    "    # generate binary sets representing + and - sign of the ranks\n",
    "    bin_arr = [np.array(p) for p in product([1, 0], repeat=n)]\n",
    "\n",
    "    # check all possible values of W\n",
    "    for pos_neg in tqdm(bin_arr):\n",
    "        W = np.sum(np.arange(1, n + 1) * pos_neg)\n",
    "        if W in prob:\n",
    "            prob[W] += 1\n",
    "        else:\n",
    "            prob[W] = 1\n",
    "\n",
    "    # compute probabilities\n",
    "    for W in prob:\n",
    "        prob[W] /= 2 ** n\n",
    "\n",
    "    return prob\n",
    "\n",
    "W_prob = distr_W(n) # Compute pmf\n",
    "W_prob = {k: v for k, v in sorted(W_prob.items(), key=lambda item: item[0])} # Sort the values of W in ascending order\n",
    "W_cdf = dict(zip(W_prob.keys(), np.cumsum(list(W_prob.values())))) # Compute cdf"
   ]
  },
  {
   "cell_type": "code",
   "execution_count": 14,
   "metadata": {},
   "outputs": [
    {
     "name": "stdout",
     "output_type": "stream",
     "text": [
      "1\n",
      "Median confidence interval:\n",
      "- with Sign test quantiles [ -2.2 0.8 ]\n",
      "- with Wilcoxon signed rank test quantiles [ -2.2 0.8 ]\n"
     ]
    }
   ],
   "source": [
    "# Define another confidence level\n",
    "gamma = 0.95\n",
    "alpha = 1 - gamma\n",
    "# Compute confidence intervals\n",
    "k_a_sample = int(binom(n=n, p=0.5).ppf(alpha / 2)) + 1 # First, compute a quantile of Binom: ppf will return k such that P(Binom \\leq k), so, we add + 1\n",
    "left_sample = np.sort(lens_no_zeros_ties)[k_a_sample - 1] # Then, pick corresponding order statistics: ordering starts with 0, so we add - 1\n",
    "right_sample = np.sort(lens_no_zeros_ties)[n - k_a_sample]\n",
    "\n",
    "k_a_hl = list(W_cdf.keys())[np.argmin(np.abs(np.array(list(W_cdf.values())) - alpha / 2))] + 1 # First, compute a quantile of the exact distribution of W\n",
    "left_hl = np.sort(WA)[k_a_hl - 1] # Then, pick corresponding order statistics\n",
    "right_hl = np.sort(WA)[n * (n + 1) // 2 - k_a_hl]\n",
    "\n",
    "print(k_a_hl)\n",
    "print(\"Median confidence interval:\")\n",
    "print(\"- with Sign test quantiles [\", left_sample, right_sample, \"]\")\n",
    "print(\"- with Wilcoxon signed rank test quantiles [\", left_hl, right_hl, \"]\")"
   ]
  }
 ],
 "metadata": {
  "kernelspec": {
   "display_name": "financial-analyst-crew-NTk9EazF-py3.11",
   "language": "python",
   "name": "python3"
  },
  "language_info": {
   "codemirror_mode": {
    "name": "ipython",
    "version": 3
   },
   "file_extension": ".py",
   "mimetype": "text/x-python",
   "name": "python",
   "nbconvert_exporter": "python",
   "pygments_lexer": "ipython3",
   "version": "3.11.4"
  }
 },
 "nbformat": 4,
 "nbformat_minor": 2
}
