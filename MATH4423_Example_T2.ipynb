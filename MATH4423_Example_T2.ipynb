{
  "cells": [
    {
      "cell_type": "code",
      "execution_count": 1,
      "metadata": {
        "id": "6_WhxEIC4mhH"
      },
      "outputs": [],
      "source": [
        "# Import packages and functions\n",
        "import numpy as np\n",
        "from scipy.stats import rankdata\n",
        "from scipy.stats import binom, norm\n",
        "from itertools import permutations, product\n",
        "from math import factorial\n",
        "from tqdm import tqdm"
      ]
    },
    {
      "cell_type": "code",
      "execution_count": 2,
      "metadata": {
        "colab": {
          "base_uri": "https://localhost:8080/"
        },
        "id": "xeHY5bIO5NGz",
        "outputId": "c12c52a2-be82-457a-edb6-616f615253e4"
      },
      "outputs": [
        {
          "data": {
            "text/plain": [
              "array([2., 3., 1.])"
            ]
          },
          "execution_count": 2,
          "metadata": {},
          "output_type": "execute_result"
        }
      ],
      "source": [
        "# Example of how rankdata works\n",
        "x = np.array([5, 10, 1])\n",
        "rankdata(x)"
      ]
    },
    {
      "cell_type": "code",
      "execution_count": 3,
      "metadata": {
        "id": "OdxwISov8Aw2"
      },
      "outputs": [],
      "source": [
        "# Define type I error level\n",
        "alpha = 0.05\n",
        "\n",
        "# Define m0\n",
        "m0 = 3.7"
      ]
    },
    {
      "cell_type": "code",
      "execution_count": 4,
      "metadata": {
        "colab": {
          "base_uri": "https://localhost:8080/"
        },
        "id": "Hqm_zgb04rRX",
        "outputId": "571f4d90-fb16-4fda-bd34-e37d7979c9e6"
      },
      "outputs": [
        {
          "name": "stdout",
          "output_type": "stream",
          "text": [
            "Ranks of the sample [ 5.  1.  6.  7.  3.  9. 10.  4.  8.  2.]\n"
          ]
        }
      ],
      "source": [
        "# Our sample\n",
        "lens = np.array([5.0, 3.9, 5.2, 5.5, 2.8, 6.1, 6.4, 2.6, 1.7, 4.3])\n",
        "\n",
        "n = len(lens)\n",
        "ranks = rankdata(np.abs(lens - m0))\n",
        "print(\"Ranks of the sample\", ranks)"
      ]
    },
    {
      "cell_type": "code",
      "execution_count": 5,
      "metadata": {
        "colab": {
          "base_uri": "https://localhost:8080/"
        },
        "id": "q7D9dsPQ5eor",
        "outputId": "73d76491-400f-482f-cde4-f045de3585ed"
      },
      "outputs": [
        {
          "data": {
            "text/plain": [
              "array([ True,  True, False])"
            ]
          },
          "execution_count": 5,
          "metadata": {},
          "output_type": "execute_result"
        }
      ],
      "source": [
        "# Example of a mask\n",
        "x > 3"
      ]
    },
    {
      "cell_type": "code",
      "execution_count": 6,
      "metadata": {
        "colab": {
          "base_uri": "https://localhost:8080/"
        },
        "id": "zC29svd35md4",
        "outputId": "15a2d7c4-4353-4eb1-f0df-8e28bd71b1df"
      },
      "outputs": [
        {
          "name": "stdout",
          "output_type": "stream",
          "text": [
            "Lens above m0 [5.  3.9 5.2 5.5 6.1 6.4 4.3]\n"
          ]
        }
      ],
      "source": [
        "print(\"Lens above m0\", lens[lens > m0])"
      ]
    },
    {
      "cell_type": "code",
      "execution_count": 7,
      "metadata": {
        "colab": {
          "base_uri": "https://localhost:8080/"
        },
        "id": "vEhXEZ4i6IaC",
        "outputId": "e09042cf-d8d8-4752-8573-71e2316f75c7"
      },
      "outputs": [
        {
          "name": "stdout",
          "output_type": "stream",
          "text": [
            "Positive ranks [ 5.  1.  6.  7.  9. 10.  2.]\n"
          ]
        }
      ],
      "source": [
        "print(\"Positive ranks\", ranks[lens > m0])"
      ]
    },
    {
      "cell_type": "code",
      "execution_count": 8,
      "metadata": {
        "colab": {
          "base_uri": "https://localhost:8080/"
        },
        "id": "VTQycnWK6Utt",
        "outputId": "f05bbef1-9536-4a17-aefe-7c88a602a9d7"
      },
      "outputs": [
        {
          "name": "stdout",
          "output_type": "stream",
          "text": [
            "Sign test statistic 7\n",
            "P-value of Sign test for Two-sided alternative 0.34375\n",
            "Do not reject H0\n"
          ]
        }
      ],
      "source": [
        "# Sign test\n",
        "S = np.sum(lens > m0)\n",
        "print(\"Sign test statistic\", S)\n",
        "\n",
        "p_S = 2 * min(binom.cdf(n=n, p=0.5, k=S), 1 - binom.cdf(n=n, p=0.5, k=S - 1))\n",
        "print(\"P-value of Sign test for Two-sided alternative\", p_S)\n",
        "\n",
        "if p_S < alpha:\n",
        "    print(\"Reject H0\")\n",
        "else:\n",
        "    print(\"Do not reject H0\")"
      ]
    },
    {
      "cell_type": "code",
      "execution_count": 9,
      "metadata": {},
      "outputs": [
        {
          "name": "stdout",
          "output_type": "stream",
          "text": [
            "Approximated p-value of Sign test for Two-sided alternative 0.34278171114791145\n",
            "Do not reject H0\n"
          ]
        }
      ],
      "source": [
        "# Sign test. Normal approximation with continuity correction\n",
        "p_S_norm = 2 * min(norm.cdf(x=(S + 0.5 - n / 2) / (np.sqrt(n) / 2)), 1 - norm.cdf(x=(S - 0.5 - n / 2) / (np.sqrt(n) / 2)))\n",
        "print(\"Approximated p-value of Sign test for Two-sided alternative\", p_S_norm)\n",
        "\n",
        "if p_S_norm < alpha:\n",
        "    print(\"Reject H0\")\n",
        "else:\n",
        "    print(\"Do not reject H0\")"
      ]
    },
    {
      "cell_type": "code",
      "execution_count": 10,
      "metadata": {
        "colab": {
          "base_uri": "https://localhost:8080/"
        },
        "id": "82C2JWLd6ftq",
        "outputId": "df86620b-c583-4335-b73c-13e61d547191"
      },
      "outputs": [
        {
          "name": "stdout",
          "output_type": "stream",
          "text": [
            "Wilcoxon sign rank test statistic 40.0\n",
            "Sum of non-positive ranks 15.0\n"
          ]
        }
      ],
      "source": [
        "# Wilcoxon signed rank test\n",
        "W_pos = np.sum(ranks[lens > m0])\n",
        "print(\"Wilcoxon sign rank test statistic\", W_pos)\n",
        "\n",
        "W_neg = np.sum(ranks[lens <= m0])\n",
        "print(\"Sum of non-positive ranks\", W_neg)"
      ]
    },
    {
      "cell_type": "markdown",
      "metadata": {},
      "source": [
        "![caption](./Table.png)"
      ]
    },
    {
      "cell_type": "code",
      "execution_count": 11,
      "metadata": {
        "colab": {
          "base_uri": "https://localhost:8080/"
        },
        "id": "LBCn_a8p6nsQ",
        "outputId": "339f09c0-52c3-4dd1-e57b-0470fc87d271"
      },
      "outputs": [
        {
          "name": "stdout",
          "output_type": "stream",
          "text": [
            "Do not reject H0\n"
          ]
        }
      ],
      "source": [
        "crit_val = 8\n",
        "\n",
        "if min(W_pos, W_neg) < crit_val:\n",
        "    print(\"Reject H0\")\n",
        "else:\n",
        "    print(\"Do not reject H0\")"
      ]
    },
    {
      "cell_type": "code",
      "execution_count": 12,
      "metadata": {
        "id": "WQQ9h9oM85lG"
      },
      "outputs": [
        {
          "name": "stdout",
          "output_type": "stream",
          "text": [
            "Approximated p-value of Wilcoxon signed rank test for Two-sided alternative 0.20262160771231197\n",
            "Do not reject H0\n"
          ]
        }
      ],
      "source": [
        "# Wilcoxon signed rank test. Normal approximation\n",
        "p = norm.cdf(x=(W_pos - n * (n + 1) / 4) / np.sqrt(n * (n + 1) * (2 * n + 1) / 24))\n",
        "p_W_norm = 2 * min(p, 1 - p)\n",
        "print(\"Approximated p-value of Wilcoxon signed rank test for Two-sided alternative\", p_W_norm)\n",
        "\n",
        "if p_W_norm < alpha:\n",
        "    print(\"Reject H0\")\n",
        "else:\n",
        "    print(\"Do not reject H0\")"
      ]
    },
    {
      "cell_type": "code",
      "execution_count": null,
      "metadata": {},
      "outputs": [],
      "source": []
    }
  ],
  "metadata": {
    "colab": {
      "provenance": []
    },
    "kernelspec": {
      "display_name": "Python 3",
      "name": "python3"
    },
    "language_info": {
      "codemirror_mode": {
        "name": "ipython",
        "version": 3
      },
      "file_extension": ".py",
      "mimetype": "text/x-python",
      "name": "python",
      "nbconvert_exporter": "python",
      "pygments_lexer": "ipython3",
      "version": "3.12.6"
    }
  },
  "nbformat": 4,
  "nbformat_minor": 0
}
